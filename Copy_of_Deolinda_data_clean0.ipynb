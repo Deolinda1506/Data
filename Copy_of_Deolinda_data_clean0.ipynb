{
  "nbformat": 4,
  "nbformat_minor": 0,
  "metadata": {
    "colab": {
      "provenance": [],
      "toc_visible": true,
      "authorship_tag": "ABX9TyPb2tgS+cQ3XOA8q7VBcVvS",
      "include_colab_link": true
    },
    "kernelspec": {
      "name": "python3",
      "display_name": "Python 3"
    },
    "language_info": {
      "name": "python"
    }
  },
  "cells": [
    {
      "cell_type": "markdown",
      "metadata": {
        "id": "view-in-github",
        "colab_type": "text"
      },
      "source": [
        "<a href=\"https://colab.research.google.com/github/Deolinda1506/Data/blob/main/Copy_of_Deolinda_data_clean0.ipynb\" target=\"_parent\"><img src=\"https://colab.research.google.com/assets/colab-badge.svg\" alt=\"Open In Colab\"/></a>"
      ]
    },
    {
      "cell_type": "code",
      "execution_count": 79,
      "metadata": {
        "id": "kEPvlQnA-V16",
        "colab": {
          "base_uri": "https://localhost:8080/",
          "height": 716
        },
        "outputId": "0c54f31f-195a-4278-c583-f62435730c31"
      },
      "outputs": [
        {
          "output_type": "display_data",
          "data": {
            "text/plain": [
              "<IPython.core.display.HTML object>"
            ],
            "text/html": [
              "\n",
              "     <input type=\"file\" id=\"files-2a0ab456-036a-4fa5-a438-0bcc14531a45\" name=\"files[]\" multiple disabled\n",
              "        style=\"border:none\" />\n",
              "     <output id=\"result-2a0ab456-036a-4fa5-a438-0bcc14531a45\">\n",
              "      Upload widget is only available when the cell has been executed in the\n",
              "      current browser session. Please rerun this cell to enable.\n",
              "      </output>\n",
              "      <script>// Copyright 2017 Google LLC\n",
              "//\n",
              "// Licensed under the Apache License, Version 2.0 (the \"License\");\n",
              "// you may not use this file except in compliance with the License.\n",
              "// You may obtain a copy of the License at\n",
              "//\n",
              "//      http://www.apache.org/licenses/LICENSE-2.0\n",
              "//\n",
              "// Unless required by applicable law or agreed to in writing, software\n",
              "// distributed under the License is distributed on an \"AS IS\" BASIS,\n",
              "// WITHOUT WARRANTIES OR CONDITIONS OF ANY KIND, either express or implied.\n",
              "// See the License for the specific language governing permissions and\n",
              "// limitations under the License.\n",
              "\n",
              "/**\n",
              " * @fileoverview Helpers for google.colab Python module.\n",
              " */\n",
              "(function(scope) {\n",
              "function span(text, styleAttributes = {}) {\n",
              "  const element = document.createElement('span');\n",
              "  element.textContent = text;\n",
              "  for (const key of Object.keys(styleAttributes)) {\n",
              "    element.style[key] = styleAttributes[key];\n",
              "  }\n",
              "  return element;\n",
              "}\n",
              "\n",
              "// Max number of bytes which will be uploaded at a time.\n",
              "const MAX_PAYLOAD_SIZE = 100 * 1024;\n",
              "\n",
              "function _uploadFiles(inputId, outputId) {\n",
              "  const steps = uploadFilesStep(inputId, outputId);\n",
              "  const outputElement = document.getElementById(outputId);\n",
              "  // Cache steps on the outputElement to make it available for the next call\n",
              "  // to uploadFilesContinue from Python.\n",
              "  outputElement.steps = steps;\n",
              "\n",
              "  return _uploadFilesContinue(outputId);\n",
              "}\n",
              "\n",
              "// This is roughly an async generator (not supported in the browser yet),\n",
              "// where there are multiple asynchronous steps and the Python side is going\n",
              "// to poll for completion of each step.\n",
              "// This uses a Promise to block the python side on completion of each step,\n",
              "// then passes the result of the previous step as the input to the next step.\n",
              "function _uploadFilesContinue(outputId) {\n",
              "  const outputElement = document.getElementById(outputId);\n",
              "  const steps = outputElement.steps;\n",
              "\n",
              "  const next = steps.next(outputElement.lastPromiseValue);\n",
              "  return Promise.resolve(next.value.promise).then((value) => {\n",
              "    // Cache the last promise value to make it available to the next\n",
              "    // step of the generator.\n",
              "    outputElement.lastPromiseValue = value;\n",
              "    return next.value.response;\n",
              "  });\n",
              "}\n",
              "\n",
              "/**\n",
              " * Generator function which is called between each async step of the upload\n",
              " * process.\n",
              " * @param {string} inputId Element ID of the input file picker element.\n",
              " * @param {string} outputId Element ID of the output display.\n",
              " * @return {!Iterable<!Object>} Iterable of next steps.\n",
              " */\n",
              "function* uploadFilesStep(inputId, outputId) {\n",
              "  const inputElement = document.getElementById(inputId);\n",
              "  inputElement.disabled = false;\n",
              "\n",
              "  const outputElement = document.getElementById(outputId);\n",
              "  outputElement.innerHTML = '';\n",
              "\n",
              "  const pickedPromise = new Promise((resolve) => {\n",
              "    inputElement.addEventListener('change', (e) => {\n",
              "      resolve(e.target.files);\n",
              "    });\n",
              "  });\n",
              "\n",
              "  const cancel = document.createElement('button');\n",
              "  inputElement.parentElement.appendChild(cancel);\n",
              "  cancel.textContent = 'Cancel upload';\n",
              "  const cancelPromise = new Promise((resolve) => {\n",
              "    cancel.onclick = () => {\n",
              "      resolve(null);\n",
              "    };\n",
              "  });\n",
              "\n",
              "  // Wait for the user to pick the files.\n",
              "  const files = yield {\n",
              "    promise: Promise.race([pickedPromise, cancelPromise]),\n",
              "    response: {\n",
              "      action: 'starting',\n",
              "    }\n",
              "  };\n",
              "\n",
              "  cancel.remove();\n",
              "\n",
              "  // Disable the input element since further picks are not allowed.\n",
              "  inputElement.disabled = true;\n",
              "\n",
              "  if (!files) {\n",
              "    return {\n",
              "      response: {\n",
              "        action: 'complete',\n",
              "      }\n",
              "    };\n",
              "  }\n",
              "\n",
              "  for (const file of files) {\n",
              "    const li = document.createElement('li');\n",
              "    li.append(span(file.name, {fontWeight: 'bold'}));\n",
              "    li.append(span(\n",
              "        `(${file.type || 'n/a'}) - ${file.size} bytes, ` +\n",
              "        `last modified: ${\n",
              "            file.lastModifiedDate ? file.lastModifiedDate.toLocaleDateString() :\n",
              "                                    'n/a'} - `));\n",
              "    const percent = span('0% done');\n",
              "    li.appendChild(percent);\n",
              "\n",
              "    outputElement.appendChild(li);\n",
              "\n",
              "    const fileDataPromise = new Promise((resolve) => {\n",
              "      const reader = new FileReader();\n",
              "      reader.onload = (e) => {\n",
              "        resolve(e.target.result);\n",
              "      };\n",
              "      reader.readAsArrayBuffer(file);\n",
              "    });\n",
              "    // Wait for the data to be ready.\n",
              "    let fileData = yield {\n",
              "      promise: fileDataPromise,\n",
              "      response: {\n",
              "        action: 'continue',\n",
              "      }\n",
              "    };\n",
              "\n",
              "    // Use a chunked sending to avoid message size limits. See b/62115660.\n",
              "    let position = 0;\n",
              "    do {\n",
              "      const length = Math.min(fileData.byteLength - position, MAX_PAYLOAD_SIZE);\n",
              "      const chunk = new Uint8Array(fileData, position, length);\n",
              "      position += length;\n",
              "\n",
              "      const base64 = btoa(String.fromCharCode.apply(null, chunk));\n",
              "      yield {\n",
              "        response: {\n",
              "          action: 'append',\n",
              "          file: file.name,\n",
              "          data: base64,\n",
              "        },\n",
              "      };\n",
              "\n",
              "      let percentDone = fileData.byteLength === 0 ?\n",
              "          100 :\n",
              "          Math.round((position / fileData.byteLength) * 100);\n",
              "      percent.textContent = `${percentDone}% done`;\n",
              "\n",
              "    } while (position < fileData.byteLength);\n",
              "  }\n",
              "\n",
              "  // All done.\n",
              "  yield {\n",
              "    response: {\n",
              "      action: 'complete',\n",
              "    }\n",
              "  };\n",
              "}\n",
              "\n",
              "scope.google = scope.google || {};\n",
              "scope.google.colab = scope.google.colab || {};\n",
              "scope.google.colab._files = {\n",
              "  _uploadFiles,\n",
              "  _uploadFilesContinue,\n",
              "};\n",
              "})(self);\n",
              "</script> "
            ]
          },
          "metadata": {}
        },
        {
          "output_type": "stream",
          "name": "stdout",
          "text": [
            "Saving Beats_dataset.csv to Beats_dataset.csv\n"
          ]
        },
        {
          "output_type": "execute_result",
          "data": {
            "text/plain": [
              "        review_id  product_id  \\\n",
              "0   RUE030N50F9EJ  B09PYVXXW5   \n",
              "1  R385JSD6KWP2QU  B09PYVXXW5   \n",
              "2  R1UB1V4EPP9MN3  B09PYVXXW5   \n",
              "3   RWYK1GXIVV6H1  B09PYVXXW5   \n",
              "4  R3FBQBGQM3II4W  B09PYVXXW5   \n",
              "\n",
              "                                               title    author  rating  \\\n",
              "0  5.0 out of 5 stars Really good with a couple o...       CTM       5   \n",
              "1  4.0 out of 5 stars I wish I could rate 5 stars...    Gianna       4   \n",
              "2  5.0 out of 5 stars Basically perfect, fantasti...  Colin M.       5   \n",
              "3            1.0 out of 5 stars Decent but Defective    Aquila       1   \n",
              "4   3.0 out of 5 stars I went with soundcore instead   Frankie       3   \n",
              "\n",
              "                                             content  \\\n",
              "0  I love TWS earbuds. I have many including buds...   \n",
              "1  …I just can’t. Because as useful as these earb...   \n",
              "2  I needed a replacement for my Galaxy buds pro'...   \n",
              "3  UPDATE 6/24/22: As of 6/23/22, my replacement ...   \n",
              "4  So out of the box these tiny buds surprised me...   \n",
              "\n",
              "                                        timestamp  \\\n",
              "0      Reviewed in the United States May 14, 2022   \n",
              "1     Reviewed in the United States July 22, 2023   \n",
              "2   Reviewed in the United States August 18, 2022   \n",
              "3      Reviewed in the United States June 3, 2022   \n",
              "4  Reviewed in the United States October 28, 2022   \n",
              "\n",
              "                     profile_id  is_verified  helpful_count product_attributes  \n",
              "0  AEGYSY5H3ZUJC4SGGPRM3Z2OE5PA            1             32       Color: Black  \n",
              "1  AHINA7A6O2I5RZSNAY4OWYN4QXVA            1             31         Color: Red  \n",
              "2  AFG2T5XGMQCACK7JBDRHKEKWJLPA            1             21         Color: Red  \n",
              "3  AGFUWY2GO4HF5RMLUR7ZOSKID4KA            1              9       Color: Black  \n",
              "4  AEOFU2SCDWYLS6DTSXIR6FWMRQMQ            1              7       Color: Black  "
            ],
            "text/html": [
              "\n",
              "  <div id=\"df-4dfc6e53-8e7d-4561-8d80-d41fc417be3b\" class=\"colab-df-container\">\n",
              "    <div>\n",
              "<style scoped>\n",
              "    .dataframe tbody tr th:only-of-type {\n",
              "        vertical-align: middle;\n",
              "    }\n",
              "\n",
              "    .dataframe tbody tr th {\n",
              "        vertical-align: top;\n",
              "    }\n",
              "\n",
              "    .dataframe thead th {\n",
              "        text-align: right;\n",
              "    }\n",
              "</style>\n",
              "<table border=\"1\" class=\"dataframe\">\n",
              "  <thead>\n",
              "    <tr style=\"text-align: right;\">\n",
              "      <th></th>\n",
              "      <th>review_id</th>\n",
              "      <th>product_id</th>\n",
              "      <th>title</th>\n",
              "      <th>author</th>\n",
              "      <th>rating</th>\n",
              "      <th>content</th>\n",
              "      <th>timestamp</th>\n",
              "      <th>profile_id</th>\n",
              "      <th>is_verified</th>\n",
              "      <th>helpful_count</th>\n",
              "      <th>product_attributes</th>\n",
              "    </tr>\n",
              "  </thead>\n",
              "  <tbody>\n",
              "    <tr>\n",
              "      <th>0</th>\n",
              "      <td>RUE030N50F9EJ</td>\n",
              "      <td>B09PYVXXW5</td>\n",
              "      <td>5.0 out of 5 stars Really good with a couple o...</td>\n",
              "      <td>CTM</td>\n",
              "      <td>5</td>\n",
              "      <td>I love TWS earbuds. I have many including buds...</td>\n",
              "      <td>Reviewed in the United States May 14, 2022</td>\n",
              "      <td>AEGYSY5H3ZUJC4SGGPRM3Z2OE5PA</td>\n",
              "      <td>1</td>\n",
              "      <td>32</td>\n",
              "      <td>Color: Black</td>\n",
              "    </tr>\n",
              "    <tr>\n",
              "      <th>1</th>\n",
              "      <td>R385JSD6KWP2QU</td>\n",
              "      <td>B09PYVXXW5</td>\n",
              "      <td>4.0 out of 5 stars I wish I could rate 5 stars...</td>\n",
              "      <td>Gianna</td>\n",
              "      <td>4</td>\n",
              "      <td>…I just can’t. Because as useful as these earb...</td>\n",
              "      <td>Reviewed in the United States July 22, 2023</td>\n",
              "      <td>AHINA7A6O2I5RZSNAY4OWYN4QXVA</td>\n",
              "      <td>1</td>\n",
              "      <td>31</td>\n",
              "      <td>Color: Red</td>\n",
              "    </tr>\n",
              "    <tr>\n",
              "      <th>2</th>\n",
              "      <td>R1UB1V4EPP9MN3</td>\n",
              "      <td>B09PYVXXW5</td>\n",
              "      <td>5.0 out of 5 stars Basically perfect, fantasti...</td>\n",
              "      <td>Colin M.</td>\n",
              "      <td>5</td>\n",
              "      <td>I needed a replacement for my Galaxy buds pro'...</td>\n",
              "      <td>Reviewed in the United States August 18, 2022</td>\n",
              "      <td>AFG2T5XGMQCACK7JBDRHKEKWJLPA</td>\n",
              "      <td>1</td>\n",
              "      <td>21</td>\n",
              "      <td>Color: Red</td>\n",
              "    </tr>\n",
              "    <tr>\n",
              "      <th>3</th>\n",
              "      <td>RWYK1GXIVV6H1</td>\n",
              "      <td>B09PYVXXW5</td>\n",
              "      <td>1.0 out of 5 stars Decent but Defective</td>\n",
              "      <td>Aquila</td>\n",
              "      <td>1</td>\n",
              "      <td>UPDATE 6/24/22: As of 6/23/22, my replacement ...</td>\n",
              "      <td>Reviewed in the United States June 3, 2022</td>\n",
              "      <td>AGFUWY2GO4HF5RMLUR7ZOSKID4KA</td>\n",
              "      <td>1</td>\n",
              "      <td>9</td>\n",
              "      <td>Color: Black</td>\n",
              "    </tr>\n",
              "    <tr>\n",
              "      <th>4</th>\n",
              "      <td>R3FBQBGQM3II4W</td>\n",
              "      <td>B09PYVXXW5</td>\n",
              "      <td>3.0 out of 5 stars I went with soundcore instead</td>\n",
              "      <td>Frankie</td>\n",
              "      <td>3</td>\n",
              "      <td>So out of the box these tiny buds surprised me...</td>\n",
              "      <td>Reviewed in the United States October 28, 2022</td>\n",
              "      <td>AEOFU2SCDWYLS6DTSXIR6FWMRQMQ</td>\n",
              "      <td>1</td>\n",
              "      <td>7</td>\n",
              "      <td>Color: Black</td>\n",
              "    </tr>\n",
              "  </tbody>\n",
              "</table>\n",
              "</div>\n",
              "    <div class=\"colab-df-buttons\">\n",
              "\n",
              "  <div class=\"colab-df-container\">\n",
              "    <button class=\"colab-df-convert\" onclick=\"convertToInteractive('df-4dfc6e53-8e7d-4561-8d80-d41fc417be3b')\"\n",
              "            title=\"Convert this dataframe to an interactive table.\"\n",
              "            style=\"display:none;\">\n",
              "\n",
              "  <svg xmlns=\"http://www.w3.org/2000/svg\" height=\"24px\" viewBox=\"0 -960 960 960\">\n",
              "    <path d=\"M120-120v-720h720v720H120Zm60-500h600v-160H180v160Zm220 220h160v-160H400v160Zm0 220h160v-160H400v160ZM180-400h160v-160H180v160Zm440 0h160v-160H620v160ZM180-180h160v-160H180v160Zm440 0h160v-160H620v160Z\"/>\n",
              "  </svg>\n",
              "    </button>\n",
              "\n",
              "  <style>\n",
              "    .colab-df-container {\n",
              "      display:flex;\n",
              "      gap: 12px;\n",
              "    }\n",
              "\n",
              "    .colab-df-convert {\n",
              "      background-color: #E8F0FE;\n",
              "      border: none;\n",
              "      border-radius: 50%;\n",
              "      cursor: pointer;\n",
              "      display: none;\n",
              "      fill: #1967D2;\n",
              "      height: 32px;\n",
              "      padding: 0 0 0 0;\n",
              "      width: 32px;\n",
              "    }\n",
              "\n",
              "    .colab-df-convert:hover {\n",
              "      background-color: #E2EBFA;\n",
              "      box-shadow: 0px 1px 2px rgba(60, 64, 67, 0.3), 0px 1px 3px 1px rgba(60, 64, 67, 0.15);\n",
              "      fill: #174EA6;\n",
              "    }\n",
              "\n",
              "    .colab-df-buttons div {\n",
              "      margin-bottom: 4px;\n",
              "    }\n",
              "\n",
              "    [theme=dark] .colab-df-convert {\n",
              "      background-color: #3B4455;\n",
              "      fill: #D2E3FC;\n",
              "    }\n",
              "\n",
              "    [theme=dark] .colab-df-convert:hover {\n",
              "      background-color: #434B5C;\n",
              "      box-shadow: 0px 1px 3px 1px rgba(0, 0, 0, 0.15);\n",
              "      filter: drop-shadow(0px 1px 2px rgba(0, 0, 0, 0.3));\n",
              "      fill: #FFFFFF;\n",
              "    }\n",
              "  </style>\n",
              "\n",
              "    <script>\n",
              "      const buttonEl =\n",
              "        document.querySelector('#df-4dfc6e53-8e7d-4561-8d80-d41fc417be3b button.colab-df-convert');\n",
              "      buttonEl.style.display =\n",
              "        google.colab.kernel.accessAllowed ? 'block' : 'none';\n",
              "\n",
              "      async function convertToInteractive(key) {\n",
              "        const element = document.querySelector('#df-4dfc6e53-8e7d-4561-8d80-d41fc417be3b');\n",
              "        const dataTable =\n",
              "          await google.colab.kernel.invokeFunction('convertToInteractive',\n",
              "                                                    [key], {});\n",
              "        if (!dataTable) return;\n",
              "\n",
              "        const docLinkHtml = 'Like what you see? Visit the ' +\n",
              "          '<a target=\"_blank\" href=https://colab.research.google.com/notebooks/data_table.ipynb>data table notebook</a>'\n",
              "          + ' to learn more about interactive tables.';\n",
              "        element.innerHTML = '';\n",
              "        dataTable['output_type'] = 'display_data';\n",
              "        await google.colab.output.renderOutput(dataTable, element);\n",
              "        const docLink = document.createElement('div');\n",
              "        docLink.innerHTML = docLinkHtml;\n",
              "        element.appendChild(docLink);\n",
              "      }\n",
              "    </script>\n",
              "  </div>\n",
              "\n",
              "\n",
              "<div id=\"df-ce520b01-4b10-4ce5-820c-906a404806d5\">\n",
              "  <button class=\"colab-df-quickchart\" onclick=\"quickchart('df-ce520b01-4b10-4ce5-820c-906a404806d5')\"\n",
              "            title=\"Suggest charts\"\n",
              "            style=\"display:none;\">\n",
              "\n",
              "<svg xmlns=\"http://www.w3.org/2000/svg\" height=\"24px\"viewBox=\"0 0 24 24\"\n",
              "     width=\"24px\">\n",
              "    <g>\n",
              "        <path d=\"M19 3H5c-1.1 0-2 .9-2 2v14c0 1.1.9 2 2 2h14c1.1 0 2-.9 2-2V5c0-1.1-.9-2-2-2zM9 17H7v-7h2v7zm4 0h-2V7h2v10zm4 0h-2v-4h2v4z\"/>\n",
              "    </g>\n",
              "</svg>\n",
              "  </button>\n",
              "\n",
              "<style>\n",
              "  .colab-df-quickchart {\n",
              "      --bg-color: #E8F0FE;\n",
              "      --fill-color: #1967D2;\n",
              "      --hover-bg-color: #E2EBFA;\n",
              "      --hover-fill-color: #174EA6;\n",
              "      --disabled-fill-color: #AAA;\n",
              "      --disabled-bg-color: #DDD;\n",
              "  }\n",
              "\n",
              "  [theme=dark] .colab-df-quickchart {\n",
              "      --bg-color: #3B4455;\n",
              "      --fill-color: #D2E3FC;\n",
              "      --hover-bg-color: #434B5C;\n",
              "      --hover-fill-color: #FFFFFF;\n",
              "      --disabled-bg-color: #3B4455;\n",
              "      --disabled-fill-color: #666;\n",
              "  }\n",
              "\n",
              "  .colab-df-quickchart {\n",
              "    background-color: var(--bg-color);\n",
              "    border: none;\n",
              "    border-radius: 50%;\n",
              "    cursor: pointer;\n",
              "    display: none;\n",
              "    fill: var(--fill-color);\n",
              "    height: 32px;\n",
              "    padding: 0;\n",
              "    width: 32px;\n",
              "  }\n",
              "\n",
              "  .colab-df-quickchart:hover {\n",
              "    background-color: var(--hover-bg-color);\n",
              "    box-shadow: 0 1px 2px rgba(60, 64, 67, 0.3), 0 1px 3px 1px rgba(60, 64, 67, 0.15);\n",
              "    fill: var(--button-hover-fill-color);\n",
              "  }\n",
              "\n",
              "  .colab-df-quickchart-complete:disabled,\n",
              "  .colab-df-quickchart-complete:disabled:hover {\n",
              "    background-color: var(--disabled-bg-color);\n",
              "    fill: var(--disabled-fill-color);\n",
              "    box-shadow: none;\n",
              "  }\n",
              "\n",
              "  .colab-df-spinner {\n",
              "    border: 2px solid var(--fill-color);\n",
              "    border-color: transparent;\n",
              "    border-bottom-color: var(--fill-color);\n",
              "    animation:\n",
              "      spin 1s steps(1) infinite;\n",
              "  }\n",
              "\n",
              "  @keyframes spin {\n",
              "    0% {\n",
              "      border-color: transparent;\n",
              "      border-bottom-color: var(--fill-color);\n",
              "      border-left-color: var(--fill-color);\n",
              "    }\n",
              "    20% {\n",
              "      border-color: transparent;\n",
              "      border-left-color: var(--fill-color);\n",
              "      border-top-color: var(--fill-color);\n",
              "    }\n",
              "    30% {\n",
              "      border-color: transparent;\n",
              "      border-left-color: var(--fill-color);\n",
              "      border-top-color: var(--fill-color);\n",
              "      border-right-color: var(--fill-color);\n",
              "    }\n",
              "    40% {\n",
              "      border-color: transparent;\n",
              "      border-right-color: var(--fill-color);\n",
              "      border-top-color: var(--fill-color);\n",
              "    }\n",
              "    60% {\n",
              "      border-color: transparent;\n",
              "      border-right-color: var(--fill-color);\n",
              "    }\n",
              "    80% {\n",
              "      border-color: transparent;\n",
              "      border-right-color: var(--fill-color);\n",
              "      border-bottom-color: var(--fill-color);\n",
              "    }\n",
              "    90% {\n",
              "      border-color: transparent;\n",
              "      border-bottom-color: var(--fill-color);\n",
              "    }\n",
              "  }\n",
              "</style>\n",
              "\n",
              "  <script>\n",
              "    async function quickchart(key) {\n",
              "      const quickchartButtonEl =\n",
              "        document.querySelector('#' + key + ' button');\n",
              "      quickchartButtonEl.disabled = true;  // To prevent multiple clicks.\n",
              "      quickchartButtonEl.classList.add('colab-df-spinner');\n",
              "      try {\n",
              "        const charts = await google.colab.kernel.invokeFunction(\n",
              "            'suggestCharts', [key], {});\n",
              "      } catch (error) {\n",
              "        console.error('Error during call to suggestCharts:', error);\n",
              "      }\n",
              "      quickchartButtonEl.classList.remove('colab-df-spinner');\n",
              "      quickchartButtonEl.classList.add('colab-df-quickchart-complete');\n",
              "    }\n",
              "    (() => {\n",
              "      let quickchartButtonEl =\n",
              "        document.querySelector('#df-ce520b01-4b10-4ce5-820c-906a404806d5 button');\n",
              "      quickchartButtonEl.style.display =\n",
              "        google.colab.kernel.accessAllowed ? 'block' : 'none';\n",
              "    })();\n",
              "  </script>\n",
              "</div>\n",
              "\n",
              "    </div>\n",
              "  </div>\n"
            ],
            "application/vnd.google.colaboratory.intrinsic+json": {
              "type": "dataframe",
              "variable_name": "df",
              "summary": "{\n  \"name\": \"df\",\n  \"rows\": 4945,\n  \"fields\": [\n    {\n      \"column\": \"review_id\",\n      \"properties\": {\n        \"dtype\": \"string\",\n        \"num_unique_values\": 4735,\n        \"samples\": [\n          \"R2YJXXM00BRZ99\",\n          \"R2T2R3F0YVI2C8\",\n          \"RO0AJ1UIFD4A3\"\n        ],\n        \"semantic_type\": \"\",\n        \"description\": \"\"\n      }\n    },\n    {\n      \"column\": \"product_id\",\n      \"properties\": {\n        \"dtype\": \"category\",\n        \"num_unique_values\": 54,\n        \"samples\": [\n          \"B0CY6S748H\",\n          \"B09GK5JMHK\",\n          \"B07GWRCZQP\"\n        ],\n        \"semantic_type\": \"\",\n        \"description\": \"\"\n      }\n    },\n    {\n      \"column\": \"title\",\n      \"properties\": {\n        \"dtype\": \"string\",\n        \"num_unique_values\": 4148,\n        \"samples\": [\n          \"3.0 out of 5 stars Son livianos\",\n          \"5.0 out of 5 stars Man, This Speaker is Terrific!\",\n          \"5.0 out of 5 stars NICE\"\n        ],\n        \"semantic_type\": \"\",\n        \"description\": \"\"\n      }\n    },\n    {\n      \"column\": \"author\",\n      \"properties\": {\n        \"dtype\": \"string\",\n        \"num_unique_values\": 4133,\n        \"samples\": [\n          \"Bleater\",\n          \"Richard K.\",\n          \"Jamie Protack\"\n        ],\n        \"semantic_type\": \"\",\n        \"description\": \"\"\n      }\n    },\n    {\n      \"column\": \"rating\",\n      \"properties\": {\n        \"dtype\": \"number\",\n        \"std\": 1,\n        \"min\": 1,\n        \"max\": 5,\n        \"num_unique_values\": 5,\n        \"samples\": [\n          4,\n          2,\n          1\n        ],\n        \"semantic_type\": \"\",\n        \"description\": \"\"\n      }\n    },\n    {\n      \"column\": \"content\",\n      \"properties\": {\n        \"dtype\": \"string\",\n        \"num_unique_values\": 4696,\n        \"samples\": [\n          \"We all know Bose sounds great but for the money, this speaker rocks.Grab two of them and pair them together for bigger sound!\",\n          \"Let's jump to the key points:-The noise cancellation on these is SCARY good. Even without music playing, it's hard to hear people talking to you when both are in.-The transparency mode is great. Still gives you solid sound quality but it's not putting you in a sound proof box.-Battery life isn't anything special in comparison to any other set of headphones I've ever owned. They last most of the work day (8 hours) though, so it's not as if it's terrible. If you listen to the volume super low, you'll get another hour or two out of them.-These are super customizable. You can boost bass and all that jazz. Sound quality I'd give a 4/5. They're not THE BEST but they are way above other brands.-The google assistant is nice. It makes a soft beep when a notification pops up, and will read the texts to you. In general, all notifications are a soft sound. When the battery is dying it gives soft little bloops, even if the volume had been up high.-I love the fact it gives you individual battery levels. Each ear bud will have it's own battery percentage on your phone so if you start out with one and pick up the other, you'll know where you're at with each PRIOR to them dying.-Another feature I love love love.... if you take an earbud out, it'll pause your music for you. This extends to movies as well. So if you get interrupted, you won't miss out on anything. Once you put it back in it'll resume playing automatically.-Comfortable fit. It comes with multiple ear tips, but the ones that came on them fit well. No matter what, my ears have always gotten an uncomfortable feeling after wearing them for awhile, but I can go the entire day with these in and it doesn't hurt. Sometimes I actually forget I have them in. They're also movement proof. I've yet to have one fall out of my ear, or even shift while bending, lifting, anything.TDLR; battery life is pretty good, but not magnificent. These are beyond comfortable. The noise cancellation will make you feel like you're in a silence booth.\",\n          \"I like these. never even know they are in your ears. very comfortable. I had one earbud that would keep disconnecting and had no sounds. I called bose and they had me put them back in the case to reset them. it kept fixing it but then the earbud would lose sound again. customer service was not helpful. I returned them and ordered a new pair, hoping I will not have the same problem.\"\n        ],\n        \"semantic_type\": \"\",\n        \"description\": \"\"\n      }\n    },\n    {\n      \"column\": \"timestamp\",\n      \"properties\": {\n        \"dtype\": \"category\",\n        \"num_unique_values\": 924,\n        \"samples\": [\n          \"Reviewed in the United States December 22, 2023\",\n          \"Reviewed in the United States December 7, 2022\",\n          \"Reviewed in the United States July 21, 2024\"\n        ],\n        \"semantic_type\": \"\",\n        \"description\": \"\"\n      }\n    },\n    {\n      \"column\": \"profile_id\",\n      \"properties\": {\n        \"dtype\": \"string\",\n        \"num_unique_values\": 4708,\n        \"samples\": [\n          \"AFTYR45ZXE6MP6TLETOZ7NUCWC6Q\",\n          \"AG755GISXW5R2XKBQFHGDRFTH6NQ\",\n          \"AHG7ZFOQ4ISFZW72BZJDVISE35KQ\"\n        ],\n        \"semantic_type\": \"\",\n        \"description\": \"\"\n      }\n    },\n    {\n      \"column\": \"is_verified\",\n      \"properties\": {\n        \"dtype\": \"number\",\n        \"std\": 0,\n        \"min\": 0,\n        \"max\": 1,\n        \"num_unique_values\": 2,\n        \"samples\": [\n          0,\n          1\n        ],\n        \"semantic_type\": \"\",\n        \"description\": \"\"\n      }\n    },\n    {\n      \"column\": \"helpful_count\",\n      \"properties\": {\n        \"dtype\": \"number\",\n        \"std\": 61,\n        \"min\": 0,\n        \"max\": 2284,\n        \"num_unique_values\": 117,\n        \"samples\": [\n          327,\n          7\n        ],\n        \"semantic_type\": \"\",\n        \"description\": \"\"\n      }\n    },\n    {\n      \"column\": \"product_attributes\",\n      \"properties\": {\n        \"dtype\": \"category\",\n        \"num_unique_values\": 135,\n        \"samples\": [\n          \"Color: Black/GoldStyle: Studio Buds +Set: Without AppleCare+\",\n          \"Color: ChestnutStyle: Bluetooth speaker\"\n        ],\n        \"semantic_type\": \"\",\n        \"description\": \"\"\n      }\n    }\n  ]\n}"
            }
          },
          "metadata": {},
          "execution_count": 79
        }
      ],
      "source": [
        "import pandas as pd\n",
        "\n",
        "from google.colab import files\n",
        "uploaded = files.upload()\n",
        "\n",
        "df = pd.read_csv('Beats_dataset.csv', index_col=0)\n",
        "\n",
        "df.head()\n"
      ]
    },
    {
      "cell_type": "code",
      "source": [
        "df.shape\n"
      ],
      "metadata": {
        "colab": {
          "base_uri": "https://localhost:8080/",
          "height": 0
        },
        "id": "RDLNS8kCfCQf",
        "outputId": "f4e42592-7188-4599-dd2a-f7a82a4ba468"
      },
      "execution_count": 80,
      "outputs": [
        {
          "output_type": "execute_result",
          "data": {
            "text/plain": [
              "(4945, 11)"
            ]
          },
          "metadata": {},
          "execution_count": 80
        }
      ]
    },
    {
      "cell_type": "markdown",
      "source": [
        "Check Data Types\n",
        "\n"
      ],
      "metadata": {
        "id": "XnmjlpWDfN8r"
      }
    },
    {
      "cell_type": "code",
      "source": [
        "\n",
        "# Check the data types of each column\n",
        "print(df.dtypes)"
      ],
      "metadata": {
        "colab": {
          "base_uri": "https://localhost:8080/",
          "height": 0
        },
        "id": "yxY7oxZxfO6W",
        "outputId": "9ab33d6e-19b7-47a6-906d-c13b7114f1aa"
      },
      "execution_count": 81,
      "outputs": [
        {
          "output_type": "stream",
          "name": "stdout",
          "text": [
            "review_id             object\n",
            "product_id            object\n",
            "title                 object\n",
            "author                object\n",
            "rating                 int64\n",
            "content               object\n",
            "timestamp             object\n",
            "profile_id            object\n",
            "is_verified            int64\n",
            "helpful_count          int64\n",
            "product_attributes    object\n",
            "dtype: object\n"
          ]
        }
      ]
    },
    {
      "cell_type": "markdown",
      "source": [
        "Identify Unique Data Types Within Columns\n",
        "\n"
      ],
      "metadata": {
        "id": "tAr6AOr0ffj4"
      }
    },
    {
      "cell_type": "code",
      "source": [
        "\n",
        "# Check the unique data types in each column (especially useful for 'rating')\n",
        "for col in df.columns:\n",
        "    print(f\"Unique data types in {col}: {df[col].apply(lambda x: type(x)).unique()}\")"
      ],
      "metadata": {
        "colab": {
          "base_uri": "https://localhost:8080/",
          "height": 0
        },
        "id": "49OcwWxOfgnf",
        "outputId": "331ca1c3-07d4-4039-e890-913df1dda8a2"
      },
      "execution_count": 82,
      "outputs": [
        {
          "output_type": "stream",
          "name": "stdout",
          "text": [
            "Unique data types in review_id: [<class 'str'>]\n",
            "Unique data types in product_id: [<class 'str'>]\n",
            "Unique data types in title: [<class 'str'>]\n",
            "Unique data types in author: [<class 'str'> <class 'float'>]\n",
            "Unique data types in rating: [<class 'int'>]\n",
            "Unique data types in content: [<class 'str'> <class 'float'>]\n",
            "Unique data types in timestamp: [<class 'str'>]\n",
            "Unique data types in profile_id: [<class 'str'>]\n",
            "Unique data types in is_verified: [<class 'int'>]\n",
            "Unique data types in helpful_count: [<class 'int'>]\n",
            "Unique data types in product_attributes: [<class 'str'> <class 'float'>]\n"
          ]
        }
      ]
    },
    {
      "cell_type": "code",
      "source": [
        "# Checking for missing values in the dataset\n",
        "missing_values = df.isnull().sum()\n",
        "print(missing_values)"
      ],
      "metadata": {
        "colab": {
          "base_uri": "https://localhost:8080/",
          "height": 0
        },
        "id": "n41FqX46fvie",
        "outputId": "6dc06f35-790c-4093-e202-6d6b8da29568"
      },
      "execution_count": 83,
      "outputs": [
        {
          "output_type": "stream",
          "name": "stdout",
          "text": [
            "review_id               0\n",
            "product_id              0\n",
            "title                   0\n",
            "author                  1\n",
            "rating                  0\n",
            "content                 8\n",
            "timestamp               0\n",
            "profile_id              0\n",
            "is_verified             0\n",
            "helpful_count           0\n",
            "product_attributes    224\n",
            "dtype: int64\n"
          ]
        }
      ]
    },
    {
      "cell_type": "markdown",
      "source": [
        "It looks like the missing values are distributed across various columns, but the number of missing entries is relatively small.\n",
        "\n"
      ],
      "metadata": {
        "id": "f8A3Z79kk_mw"
      }
    },
    {
      "cell_type": "markdown",
      "source": [
        "Handling Missing Values\n"
      ],
      "metadata": {
        "id": "5dXI3Ekbj1_y"
      }
    },
    {
      "cell_type": "markdown",
      "source": [
        "Drop Missing Values\n",
        "\n",
        "As the number of missing values is very small compared to the overall size of our dataset, and those rows aren't critical, we can drop them\n",
        "\n",
        "Drop Rows: As the missing data is less significant (like 0-8 missing values in a dataset with thousands of rows), and those rows don't add much value, dropping them is generally safe."
      ],
      "metadata": {
        "id": "z8tlpWCdlXpg"
      }
    },
    {
      "cell_type": "code",
      "source": [
        "df = df.dropna(subset=['author', 'content'])\n"
      ],
      "metadata": {
        "id": "4vADlsirj22e"
      },
      "execution_count": 84,
      "outputs": []
    },
    {
      "cell_type": "code",
      "source": [
        "# Crosschecking for missing values in the dataset\n",
        "missing_values = df.isnull().sum()\n",
        "print(missing_values)"
      ],
      "metadata": {
        "colab": {
          "base_uri": "https://localhost:8080/",
          "height": 0
        },
        "id": "Y7He-zlOl_xZ",
        "outputId": "b7da1896-dfa9-4ad0-84c8-d49b3ab17d08"
      },
      "execution_count": 85,
      "outputs": [
        {
          "output_type": "stream",
          "name": "stdout",
          "text": [
            "review_id               0\n",
            "product_id              0\n",
            "title                   0\n",
            "author                  0\n",
            "rating                  0\n",
            "content                 0\n",
            "timestamp               0\n",
            "profile_id              0\n",
            "is_verified             0\n",
            "helpful_count           0\n",
            "product_attributes    223\n",
            "dtype: int64\n"
          ]
        }
      ]
    },
    {
      "cell_type": "markdown",
      "source": [
        "Check for Duplicates\n",
        "\n"
      ],
      "metadata": {
        "id": "X6QKSFJbmz-I"
      }
    },
    {
      "cell_type": "code",
      "source": [
        "# Check for duplicate rows\n",
        "duplicates = df[df.duplicated()]\n",
        "print(f\"Number of duplicate rows: {duplicates.shape[0]}\")\n",
        "\n",
        "# Drop duplicates\n",
        "df = df.drop_duplicates()"
      ],
      "metadata": {
        "colab": {
          "base_uri": "https://localhost:8080/",
          "height": 0
        },
        "id": "ixUElVqWm03P",
        "outputId": "4d131005-3def-451a-dd09-baa825062716"
      },
      "execution_count": 86,
      "outputs": [
        {
          "output_type": "stream",
          "name": "stdout",
          "text": [
            "Number of duplicate rows: 0\n"
          ]
        }
      ]
    },
    {
      "cell_type": "markdown",
      "source": [
        "Handle Outliers\n",
        "\n",
        "Outliers can skew our analysis, so it’s important to identify and decide how to handle them.\n",
        "\n",
        "Using statistical methods like the Interquartile Range (IQR) or Z-scores for finding outliers."
      ],
      "metadata": {
        "id": "md7yQvpkrSta"
      }
    },
    {
      "cell_type": "code",
      "source": [
        "\n",
        "numeric_cols = df.select_dtypes(include=['float64', 'int64']).columns\n",
        "print(numeric_cols)"
      ],
      "metadata": {
        "colab": {
          "base_uri": "https://localhost:8080/",
          "height": 0
        },
        "id": "DE1ycVBZrW5T",
        "outputId": "5f467009-4f56-47a2-f1ea-a3cfcb57a67f"
      },
      "execution_count": 88,
      "outputs": [
        {
          "output_type": "stream",
          "name": "stdout",
          "text": [
            "Index(['rating', 'is_verified', 'helpful_count'], dtype='object')\n"
          ]
        }
      ]
    },
    {
      "cell_type": "code",
      "source": [
        "import matplotlib.pyplot as plt\n",
        "import seaborn as sns\n",
        "\n",
        "for col in numeric_cols:\n",
        "    plt.figure(figsize=(10, 4))\n",
        "    sns.boxplot(x=df[col])\n",
        "    plt.title(f'Boxplot of {col}')\n",
        "    plt.show()"
      ],
      "metadata": {
        "colab": {
          "base_uri": "https://localhost:8080/",
          "height": 1000
        },
        "id": "W2iWsF1MtCHF",
        "outputId": "46ee66ab-d57f-4471-ff33-7e12ea052210"
      },
      "execution_count": 89,
      "outputs": [
        {
          "output_type": "display_data",
          "data": {
            "text/plain": [
              "<Figure size 1000x400 with 1 Axes>"
            ],
            "image/png": "[encoded data removed]"
          },
          "metadata": {}
        },
        {
          "output_type": "display_data",
          "data": {
            "text/plain": [
              "<Figure size 1000x400 with 1 Axes>"
            ],
            "image/png": "[encoded data removed]"
          },
          "metadata": {}
        },
        {
          "output_type": "display_data",
          "data": {
            "text/plain": [
              "<Figure size 1000x400 with 1 Axes>"
            ],
            "image/png": "[encoded data removed]"
          },
          "metadata": {}
        }
      ]
    },
    {
      "cell_type": "markdown",
      "source": [
        "Remove Outliers"
      ],
      "metadata": {
        "id": "KB_eUOUXtPHQ"
      }
    },
    {
      "cell_type": "code",
      "source": [
        "\n",
        "Q1 = df['rating'].quantile(0.25)\n",
        "Q3 = df['rating'].quantile(0.75)\n",
        "IQR = Q3 - Q1\n",
        "\n",
        "lower_bound = Q1 - 1.5 * IQR\n",
        "upper_bound = Q3 + 1.5 * IQR\n",
        "\n",
        "# Filter out the outliers\n",
        "df = df[(df['rating'] >= lower_bound) & (df['rating'] <= upper_bound)]\n",
        "\n",
        "df = df[(df['is_verified'] != 0) & (df['is_verified'] != 5) & (df['helpful_count'] < 500)]"
      ],
      "metadata": {
        "id": "IovhnFCMv6rf"
      },
      "execution_count": 90,
      "outputs": []
    },
    {
      "cell_type": "markdown",
      "source": [
        "Here's a summary of what I have done:\n",
        "\n",
        "Filter Out Non-Verified Entries (is_verified):\n",
        "\n",
        "We're keeping only rows where is_verified is not 0 or 5, meaning we're focusing on entries that are more likely to be valid or trustworthy.\n",
        "\n",
        "Limit the helpful_count to Less Than 500:\n",
        "\n",
        "we're filtering out rows where helpful_count is 500 or more, keeping only those entries with a helpful_count of less than 500. This ensures we're working with reviews that are considered helpful but not excessively so, which could indicate manipulation or anomalies.\n",
        "\n",
        "Checking the Impact of Outlier Handling"
      ],
      "metadata": {
        "id": "JlL2I8I56CEG"
      }
    },
    {
      "cell_type": "code",
      "source": [
        "for col in numeric_cols:\n",
        "    plt.figure(figsize=(10, 4))\n",
        "    sns.boxplot(x=df[col])\n",
        "    plt.title(f'Boxplot of {col} After Outlier Handling')\n",
        "    plt.show()"
      ],
      "metadata": {
        "colab": {
          "base_uri": "https://localhost:8080/",
          "height": 1000
        },
        "id": "6shWixu4wqpK",
        "outputId": "f06c5e5b-d187-45ba-bd7a-1432cb26135a"
      },
      "execution_count": 91,
      "outputs": [
        {
          "output_type": "display_data",
          "data": {
            "text/plain": [
              "<Figure size 1000x400 with 1 Axes>"
            ],
            "image/png": "[encoded data removed]"
          },
          "metadata": {}
        },
        {
          "output_type": "display_data",
          "data": {
            "text/plain": [
              "<Figure size 1000x400 with 1 Axes>"
            ],
            "image/png": "[encoded data removed]"
          },
          "metadata": {}
        },
        {
          "output_type": "display_data",
          "data": {
            "text/plain": [
              "<Figure size 1000x400 with 1 Axes>"
            ],
            "image/png": "[encoded data removed]"
          },
          "metadata": {}
        }
      ]
    },
    {
      "cell_type": "markdown",
      "source": [
        "Identify Categorical and Numerical Variables\n",
        "\n"
      ],
      "metadata": {
        "id": "jzcQTBcR6g0m"
      }
    },
    {
      "cell_type": "code",
      "source": [
        "\n",
        "# List all columns in the dataset\n",
        "print(df.columns)\n",
        "\n",
        "# Identify categorical variables (usually of type 'object' or 'category')\n",
        "categorical_vars = df.select_dtypes(include=['object', 'category']).columns\n",
        "print(\"Categorical Variables:\")\n",
        "print(categorical_vars)\n",
        "\n",
        "# Identify numerical variables (usually of type 'int64' or 'float64')\n",
        "numerical_vars = df.select_dtypes(include=['int64', 'float64']).columns\n",
        "print(\"Numerical Variables:\")\n",
        "print(numerical_vars)\n",
        "\n",
        "\n",
        "\n"
      ],
      "metadata": {
        "colab": {
          "base_uri": "https://localhost:8080/",
          "height": 0
        },
        "id": "S84Xjjro6kpc",
        "outputId": "931ea926-2173-40ae-a863-7175cf4a2226"
      },
      "execution_count": 103,
      "outputs": [
        {
          "output_type": "stream",
          "name": "stdout",
          "text": [
            "Index(['Unnamed: 0', 'review_id', 'product_id', 'title', 'author', 'rating',\n",
            "       'content', 'timestamp', 'profile_id', 'is_verified', 'helpful_count',\n",
            "       'product_attributes', 'product_name'],\n",
            "      dtype='object')\n",
            "Categorical Variables:\n",
            "Index(['review_id', 'product_id', 'title', 'author', 'content', 'timestamp',\n",
            "       'profile_id', 'product_attributes', 'product_name'],\n",
            "      dtype='object')\n",
            "Numerical Variables:\n",
            "Index(['Unnamed: 0', 'rating', 'is_verified', 'helpful_count'], dtype='object')\n"
          ]
        }
      ]
    },
    {
      "cell_type": "code",
      "source": [
        "import pandas as pd\n",
        "\n",
        "# Load your dataset\n",
        "df = pd.read_csv('Beats_dataset.csv')\n",
        "\n",
        "# Dictionary mapping ASIN to Product Name\n",
        "product_mapping = {\n",
        "    'B09PYVXXW5': '1MORE ComfoBuds Mini Hybrid Active Noise Cancelling Earbuds ',\n",
        "    'B09H27SXHS': 'HTC Wireless Headphones',\n",
        "    'B09FM6PDHP': 'JBL Tune 230NC TWS',\n",
        "    'B09HN594TL': 'JLab Go Air Pop True Wireless Bluetooth Earbuds',\n",
        "    'B096SV8SJG': 'Beats Studio Buds - True Wireless Noise Cancelling Earbuds',\n",
        "    'B0BTZKP1TP': 'Jabra Elite 4 True Wireless Earbuds',\n",
        "    'B08ZR5JB9G': 'Sennheiser CX True Wireless Earbuds',\n",
        "    'B0C2F5KD26': 'Skullcandy Smokin Buds In-Ear Wireless Earbuds',\n",
        "    'B0BYPFNW6T': 'Sony WF-C700N Truly Wireless Noise Canceling Earbuds',\n",
        "    'B093SLWMS7': 'Soundcore by Anker Life P3 Noise Cancelling Wireless Bluetooth Earbuds',\n",
        "    'B099TJGJ91': 'Bose SoundLink Flex Bluetooth Speaker',\n",
        "    'B0D4SX9RC6': 'Beats Pill (2024 Release) Portable Bluetooth Speaker',\n",
        "}\n",
        "\n",
        "# Replace ASIN with Product Name\n",
        "df['product_name'] = df['product_id'].map(product_mapping)\n",
        "\n",
        "# Save the updated dataset\n",
        "df.to_csv('updated_dataset.csv', index=False)\n"
      ],
      "metadata": {
        "id": "612ev6ZmmiIJ"
      },
      "execution_count": 104,
      "outputs": []
    }
  ]
}